{
  "cells": [
    {
      "cell_type": "code",
      "execution_count": 1,
      "id": "1ZErRxWlLu91",
      "metadata": {
        "id": "1ZErRxWlLu91"
      },
      "outputs": [],
      "source": [
        "import requests\n",
        "import csv\n",
        "import time\n",
        "import pandas as pd\n",
        "import matplotlib.pyplot as plt\n",
        "import numpy as np\n",
        "import seaborn as sns"
      ]
    },
    {
      "cell_type": "code",
      "execution_count": 2,
      "id": "1Lgu3JM_LxzN",
      "metadata": {
        "id": "1Lgu3JM_LxzN"
      },
      "outputs": [],
      "source": [
        "BASE_URL = \"https://datahub.transportation.gov/resource/6axg-epim.json\"\n",
        "LIMIT = 1000\n",
        "OUTPUT_FILE = \"vehicle_recalls.csv\"\n",
        "\n",
        "def fetch_recalls():\n",
        "    all_data = []\n",
        "    offset = 0\n",
        "\n",
        "    while True:\n",
        "        url = f\"{BASE_URL}?$limit={LIMIT}&$offset={offset}\"\n",
        "        try:\n",
        "            response = requests.get(url)\n",
        "            response.raise_for_status()\n",
        "            data = response.json()\n",
        "\n",
        "            if not data:\n",
        "                break  # Stop if no more data is returned\n",
        "\n",
        "            all_data.extend(data)\n",
        "            offset += LIMIT  # Move to the next batch\n",
        "            time.sleep(1)  # Avoid rate limiting\n",
        "\n",
        "        except requests.exceptions.RequestException as e:\n",
        "            print(f\"Error fetching recall data: {e}\")\n",
        "            break\n",
        "\n",
        "    return all_data\n",
        "\n",
        "def save_to_csv(data, filename):\n",
        "    if not data:\n",
        "        print(\"No data to save.\")\n",
        "        return\n",
        "\n",
        "    all_keys = set()\n",
        "    for entry in data:\n",
        "        all_keys.update(entry.keys())\n",
        "\n",
        "    with open(filename, \"w\", newline=\"\") as file:\n",
        "        writer = csv.DictWriter(file, fieldnames=list(all_keys))\n",
        "        writer.writeheader()\n",
        "        for entry in data:\n",
        "            writer.writerow({key: entry.get(key, '') for key in all_keys})"
      ]
    },
    {
      "cell_type": "code",
      "execution_count": 3,
      "id": "YBu0oK6hL1lU",
      "metadata": {
        "colab": {
          "base_uri": "https://localhost:8080/"
        },
        "id": "YBu0oK6hL1lU",
        "outputId": "c64cff77-d22d-4d51-ca11-1b7ac8b287d2"
      },
      "outputs": [
        {
          "name": "stdout",
          "output_type": "stream",
          "text": [
            "Recall data saved to vehicle_recalls.csv\n"
          ]
        }
      ],
      "source": [
        "if __name__ == \"__main__\":\n",
        "    recalls = fetch_recalls()\n",
        "    save_to_csv(recalls, OUTPUT_FILE)\n",
        "    print(f\"Recall data saved to {OUTPUT_FILE}\")"
      ]
    },
    {
      "cell_type": "code",
      "execution_count": null,
      "id": "00e1bcd1",
      "metadata": {
        "colab": {
          "base_uri": "https://localhost:8080/"
        },
        "id": "00e1bcd1",
        "outputId": "a61cfa81-f8ab-40a0-b250-ddef51bbe029"
      },
      "outputs": [
        {
          "name": "stderr",
          "output_type": "stream",
          "text": [
            "<ipython-input-6-bafe4db9e7d9>:15: FutureWarning: A value is trying to be set on a copy of a DataFrame or Series through chained assignment using an inplace method.\n",
            "The behavior will change in pandas 3.0. This inplace method will never work because the intermediate object on which we are setting values always behaves as a copy.\n",
            "\n",
            "For example, when doing 'df[col].method(value, inplace=True)', try using 'df.method({col: value}, inplace=True)' or df[col] = df[col].method(value) instead, to perform the operation inplace on the original object.\n",
            "\n",
            "\n",
            "  df['completion_rate'].fillna(df['completion_rate'].median(), inplace=True)\n",
            "<ipython-input-6-bafe4db9e7d9>:16: FutureWarning: A value is trying to be set on a copy of a DataFrame or Series through chained assignment using an inplace method.\n",
            "The behavior will change in pandas 3.0. This inplace method will never work because the intermediate object on which we are setting values always behaves as a copy.\n",
            "\n",
            "For example, when doing 'df[col].method(value, inplace=True)', try using 'df.method({col: value}, inplace=True)' or df[col] = df[col].method(value) instead, to perform the operation inplace on the original object.\n",
            "\n",
            "\n",
            "  df['potentially_affected'].fillna(df['potentially_affected'].median(), inplace=True)\n"
          ]
        }
      ],
      "source": [
        "\n",
        "import pandas as pd\n",
        "import re\n",
        "from sklearn.ensemble import RandomForestRegressor\n",
        "from sklearn.model_selection import train_test_split\n",
        "from sklearn.metrics import mean_absolute_error\n",
        "\n",
        "# Load and clean the dataset\n",
        "df = pd.read_csv(\"vehicle_recalls.csv\")\n",
        "df['report_received_date'] = pd.to_datetime(df['report_received_date'], errors='coerce')\n",
        "df['year'] = df['report_received_date'].dt.year\n",
        "df.dropna(subset=['year'], inplace=True)\n",
        "df['year'] = df['year'].astype(int)\n",
        "\n",
        "# Fill missing values\n",
        "df['completion_rate'].fillna(df['completion_rate'].median(), inplace=True)\n",
        "df['potentially_affected'].fillna(df['potentially_affected'].median(), inplace=True)\n",
        "text_cols = ['consequence_summary', 'corrective_action', 'defect_summary']\n",
        "df[text_cols] = df[text_cols].fillna('Unknown')\n"
      ]
    },
    {
      "cell_type": "code",
      "execution_count": null,
      "id": "d59068b8",
      "metadata": {
        "id": "d59068b8"
      },
      "outputs": [],
      "source": [
        "\n",
        "# Feature Engineering\n",
        "from sklearn.preprocessing import LabelEncoder\n",
        "le_manufacturer = LabelEncoder()\n",
        "df['manufacturer_encoded'] = le_manufacturer.fit_transform(df['manufacturer'])\n",
        "\n",
        "le_component = LabelEncoder()\n",
        "df['component_encoded'] = le_component.fit_transform(df['component'])\n",
        "\n",
        "df['recall_severity'] = df['potentially_affected'] * (1 - df['completion_rate'] / 100)\n",
        "\n",
        "# Prepare dataset for modeling\n",
        "features = df.groupby('year').agg({\n",
        "    'potentially_affected': 'sum',\n",
        "    'recall_severity': 'sum',\n",
        "    'manufacturer_encoded': 'nunique',\n",
        "    'component_encoded': 'nunique'\n",
        "}).reset_index()\n",
        "\n",
        "X = features[['year', 'recall_severity', 'manufacturer_encoded', 'component_encoded']]\n",
        "y = features['potentially_affected']\n",
        "X_train, X_test, y_train, y_test = train_test_split(X, y, test_size=0.2, random_state=42)\n"
      ]
    },
    {
      "cell_type": "code",
      "execution_count": null,
      "id": "8b26ff95",
      "metadata": {
        "colab": {
          "base_uri": "https://localhost:8080/"
        },
        "id": "8b26ff95",
        "outputId": "155a47d3-341a-40f0-b84c-e9f21b5ae033"
      },
      "outputs": [
        {
          "name": "stdout",
          "output_type": "stream",
          "text": [
            "Model MAE: 4881290.908333332\n"
          ]
        }
      ],
      "source": [
        "\n",
        "# Train Random Forest Model\n",
        "rf_model = RandomForestRegressor(n_estimators=100, random_state=42)\n",
        "rf_model.fit(X_train, y_train)\n",
        "\n",
        "# Evaluate Model\n",
        "y_pred = rf_model.predict(X_test)\n",
        "mae = mean_absolute_error(y_test, y_pred)\n",
        "print(f\"Model MAE: {mae}\")\n"
      ]
    },
    {
      "cell_type": "code",
      "execution_count": null,
      "id": "d3364d0c",
      "metadata": {
        "id": "d3364d0c"
      },
      "outputs": [],
      "source": [
        "\n",
        "# Function to process natural language queries\n",
        "def extract_entities(query):\n",
        "    query = query.lower()\n",
        "    entities = {\"year\": None, \"component\": None, \"intent\": None}\n",
        "\n",
        "    year_match = re.search(r'\\b(20\\d{2})\\b', query)\n",
        "    if year_match:\n",
        "        entities[\"year\"] = int(year_match.group())\n",
        "\n",
        "    component_keywords = set(df['component'].str.lower().unique())\n",
        "    for word in query.split():\n",
        "        if word in component_keywords:\n",
        "            entities[\"component\"] = word\n",
        "\n",
        "    if \"forecast\" in query or \"demand\" in query:\n",
        "        entities[\"intent\"] = \"forecast\"\n",
        "    elif \"trend\" in query or \"recalls over time\" in query:\n",
        "        entities[\"intent\"] = \"trend\"\n",
        "    elif \"highest recalls\" in query or \"top manufacturers\" in query:\n",
        "        entities[\"intent\"] = \"top_manufacturer\"\n",
        "    elif \"how many recalls\" in query or \"total recalls\" in query:\n",
        "        entities[\"intent\"] = \"recall_count\"\n",
        "\n",
        "    return entities\n",
        "\n",
        "def process_nlq(query):\n",
        "    entities = extract_entities(query)\n",
        "    year, component, intent = entities[\"year\"], entities[\"component\"], entities[\"intent\"]\n",
        "\n",
        "    if intent == \"forecast\":\n",
        "        if year:\n",
        "            result = rf_model.predict([[year, X['recall_severity'].mean(), X['manufacturer_encoded'].mean(), X['component_encoded'].mean()]])\n",
        "            return f\"Predicted spare part demand for {year}: {int(result[0])} units.\"\n",
        "        else:\n",
        "            return \"Please specify a year for demand forecasting.\"\n",
        "\n",
        "    elif intent == \"top_manufacturer\":\n",
        "        if year:\n",
        "            top_mfr = df[df[\"year\"] == year].groupby(\"manufacturer\")[\"potentially_affected\"].sum().idxmax()\n",
        "            return f\"The manufacturer with the highest recalls in {year} is {top_mfr}.\"\n",
        "        else:\n",
        "            top_mfr = df.groupby(\"manufacturer\")[\"potentially_affected\"].sum().idxmax()\n",
        "            return f\"The manufacturer with the highest recalls overall is {top_mfr}.\"\n",
        "\n",
        "    elif intent == \"trend\":\n",
        "        return \"Displaying recall trends over time...\"\n",
        "\n",
        "    elif intent == \"recall_count\":\n",
        "        if year and component:\n",
        "            count = df[(df[\"year\"] == year) & (df[\"component\"].str.lower() == component)][\"potentially_affected\"].sum()\n",
        "            return f\"Total recalls for {component} in {year}: {int(count)} vehicles.\"\n",
        "        elif year:\n",
        "            count = df[df[\"year\"] == year][\"potentially_affected\"].sum()\n",
        "            return f\"Total recalls in {year}: {int(count)} vehicles.\"\n",
        "        else:\n",
        "            return \"Please specify a year to get recall count information.\"\n",
        "\n",
        "    return \"Sorry, I couldn't understand your query. Try asking about forecasts, trends, or top manufacturers.\"\n"
      ]
    },
    {
      "cell_type": "code",
      "execution_count": null,
      "id": "26d2d106",
      "metadata": {
        "colab": {
          "base_uri": "https://localhost:8080/"
        },
        "id": "26d2d106",
        "outputId": "298d39a4-7d92-404f-f138-460aabb7f66b"
      },
      "outputs": [
        {
          "name": "stdout",
          "output_type": "stream",
          "text": [
            "Query: What is the expected spare part demand for 2029?\n",
            "Response: Predicted spare part demand for 2029: 26267248 units.\n",
            "--------------------------------------------------\n",
            "Query: Which manufacturer had the highest recalls in 2021?\n",
            "Response: The manufacturer with the highest recalls in 2021 is General Motors, LLC.\n",
            "--------------------------------------------------\n",
            "Query: Show me the recall trend for brakes over the last 3 years.\n",
            "Response: Displaying recall trends over time...\n",
            "--------------------------------------------------\n",
            "Query: How many recalls were there for airbags in 2018?\n",
            "Response: Total recalls in 2018: 38268202 vehicles.\n",
            "--------------------------------------------------\n"
          ]
        },
        {
          "name": "stderr",
          "output_type": "stream",
          "text": [
            "/usr/local/lib/python3.11/dist-packages/sklearn/utils/validation.py:2739: UserWarning: X does not have valid feature names, but RandomForestRegressor was fitted with feature names\n",
            "  warnings.warn(\n"
          ]
        }
      ],
      "source": [
        "\n",
        "# Example Queries\n",
        "sample_queries = [\n",
        "    \"What is the expected spare part demand for 2029?\",\n",
        "    \"Which manufacturer had the highest recalls in 2021?\",\n",
        "    \"Show me the recall trend for brakes over the last 3 years.\",\n",
        "    \"How many recalls were there for airbags in 2018?\"\n",
        "]\n",
        "\n",
        "# Process Queries\n",
        "for query in sample_queries:\n",
        "    print(f\"Query: {query}\")\n",
        "    print(f\"Response: {process_nlq(query)}\")\n",
        "    print(\"-\" * 50)\n"
      ]
    }
  ],
  "metadata": {
    "colab": {
      "provenance": []
    },
    "kernelspec": {
      "display_name": "Python 3",
      "name": "python3"
    },
    "language_info": {
      "codemirror_mode": {
        "name": "ipython",
        "version": 3
      },
      "file_extension": ".py",
      "mimetype": "text/x-python",
      "name": "python",
      "nbconvert_exporter": "python",
      "pygments_lexer": "ipython3",
      "version": "3.12.2"
    }
  },
  "nbformat": 4,
  "nbformat_minor": 5
}
